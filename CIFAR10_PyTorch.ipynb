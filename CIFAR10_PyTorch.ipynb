{
  "nbformat": 4,
  "nbformat_minor": 0,
  "metadata": {
    "accelerator": "GPU",
    "colab": {
      "name": "CIFAR10-PyTorch.ipynb",
      "provenance": [],
      "collapsed_sections": [],
      "authorship_tag": "ABX9TyMH6UB48N2xF+rDLr1r4BsM",
      "include_colab_link": true
    },
    "kernelspec": {
      "display_name": "Python 3",
      "name": "python3"
    },
    "widgets": {
      "application/vnd.jupyter.widget-state+json": {
        "4b78c00e39bd4072bfbb912546f26692": {
          "model_module": "@jupyter-widgets/controls",
          "model_name": "HBoxModel",
          "state": {
            "_view_name": "HBoxView",
            "_dom_classes": [],
            "_model_name": "HBoxModel",
            "_view_module": "@jupyter-widgets/controls",
            "_model_module_version": "1.5.0",
            "_view_count": null,
            "_view_module_version": "1.5.0",
            "box_style": "",
            "layout": "IPY_MODEL_d1cf228f89b34418b1993308117c970a",
            "_model_module": "@jupyter-widgets/controls",
            "children": [
              "IPY_MODEL_ee6806a8feb14644afaab6c1cc442fe3",
              "IPY_MODEL_f4790891b6194b09a14a1762f0f38cb0"
            ]
          }
        },
        "d1cf228f89b34418b1993308117c970a": {
          "model_module": "@jupyter-widgets/base",
          "model_name": "LayoutModel",
          "state": {
            "_view_name": "LayoutView",
            "grid_template_rows": null,
            "right": null,
            "justify_content": null,
            "_view_module": "@jupyter-widgets/base",
            "overflow": null,
            "_model_module_version": "1.2.0",
            "_view_count": null,
            "flex_flow": null,
            "width": null,
            "min_width": null,
            "border": null,
            "align_items": null,
            "bottom": null,
            "_model_module": "@jupyter-widgets/base",
            "top": null,
            "grid_column": null,
            "overflow_y": null,
            "overflow_x": null,
            "grid_auto_flow": null,
            "grid_area": null,
            "grid_template_columns": null,
            "flex": null,
            "_model_name": "LayoutModel",
            "justify_items": null,
            "grid_row": null,
            "max_height": null,
            "align_content": null,
            "visibility": null,
            "align_self": null,
            "height": null,
            "min_height": null,
            "padding": null,
            "grid_auto_rows": null,
            "grid_gap": null,
            "max_width": null,
            "order": null,
            "_view_module_version": "1.2.0",
            "grid_template_areas": null,
            "object_position": null,
            "object_fit": null,
            "grid_auto_columns": null,
            "margin": null,
            "display": null,
            "left": null
          }
        },
        "ee6806a8feb14644afaab6c1cc442fe3": {
          "model_module": "@jupyter-widgets/controls",
          "model_name": "FloatProgressModel",
          "state": {
            "_view_name": "ProgressView",
            "style": "IPY_MODEL_08873ee32b0b4358a0efbf94d7754029",
            "_dom_classes": [],
            "description": "100%",
            "_model_name": "FloatProgressModel",
            "bar_style": "success",
            "max": 553433881,
            "_view_module": "@jupyter-widgets/controls",
            "_model_module_version": "1.5.0",
            "value": 553433881,
            "_view_count": null,
            "_view_module_version": "1.5.0",
            "orientation": "horizontal",
            "min": 0,
            "description_tooltip": null,
            "_model_module": "@jupyter-widgets/controls",
            "layout": "IPY_MODEL_339d05e9b57e4b16bffcbda9454c3efa"
          }
        },
        "f4790891b6194b09a14a1762f0f38cb0": {
          "model_module": "@jupyter-widgets/controls",
          "model_name": "HTMLModel",
          "state": {
            "_view_name": "HTMLView",
            "style": "IPY_MODEL_94aca82d6efc4367b5b0b9fbc96726a8",
            "_dom_classes": [],
            "description": "",
            "_model_name": "HTMLModel",
            "placeholder": "​",
            "_view_module": "@jupyter-widgets/controls",
            "_model_module_version": "1.5.0",
            "value": " 528M/528M [08:07&lt;00:00, 1.13MB/s]",
            "_view_count": null,
            "_view_module_version": "1.5.0",
            "description_tooltip": null,
            "_model_module": "@jupyter-widgets/controls",
            "layout": "IPY_MODEL_02b1175539ca4631a4ff61e2a7ed1b87"
          }
        },
        "08873ee32b0b4358a0efbf94d7754029": {
          "model_module": "@jupyter-widgets/controls",
          "model_name": "ProgressStyleModel",
          "state": {
            "_view_name": "StyleView",
            "_model_name": "ProgressStyleModel",
            "description_width": "initial",
            "_view_module": "@jupyter-widgets/base",
            "_model_module_version": "1.5.0",
            "_view_count": null,
            "_view_module_version": "1.2.0",
            "bar_color": null,
            "_model_module": "@jupyter-widgets/controls"
          }
        },
        "339d05e9b57e4b16bffcbda9454c3efa": {
          "model_module": "@jupyter-widgets/base",
          "model_name": "LayoutModel",
          "state": {
            "_view_name": "LayoutView",
            "grid_template_rows": null,
            "right": null,
            "justify_content": null,
            "_view_module": "@jupyter-widgets/base",
            "overflow": null,
            "_model_module_version": "1.2.0",
            "_view_count": null,
            "flex_flow": null,
            "width": null,
            "min_width": null,
            "border": null,
            "align_items": null,
            "bottom": null,
            "_model_module": "@jupyter-widgets/base",
            "top": null,
            "grid_column": null,
            "overflow_y": null,
            "overflow_x": null,
            "grid_auto_flow": null,
            "grid_area": null,
            "grid_template_columns": null,
            "flex": null,
            "_model_name": "LayoutModel",
            "justify_items": null,
            "grid_row": null,
            "max_height": null,
            "align_content": null,
            "visibility": null,
            "align_self": null,
            "height": null,
            "min_height": null,
            "padding": null,
            "grid_auto_rows": null,
            "grid_gap": null,
            "max_width": null,
            "order": null,
            "_view_module_version": "1.2.0",
            "grid_template_areas": null,
            "object_position": null,
            "object_fit": null,
            "grid_auto_columns": null,
            "margin": null,
            "display": null,
            "left": null
          }
        },
        "94aca82d6efc4367b5b0b9fbc96726a8": {
          "model_module": "@jupyter-widgets/controls",
          "model_name": "DescriptionStyleModel",
          "state": {
            "_view_name": "StyleView",
            "_model_name": "DescriptionStyleModel",
            "description_width": "",
            "_view_module": "@jupyter-widgets/base",
            "_model_module_version": "1.5.0",
            "_view_count": null,
            "_view_module_version": "1.2.0",
            "_model_module": "@jupyter-widgets/controls"
          }
        },
        "02b1175539ca4631a4ff61e2a7ed1b87": {
          "model_module": "@jupyter-widgets/base",
          "model_name": "LayoutModel",
          "state": {
            "_view_name": "LayoutView",
            "grid_template_rows": null,
            "right": null,
            "justify_content": null,
            "_view_module": "@jupyter-widgets/base",
            "overflow": null,
            "_model_module_version": "1.2.0",
            "_view_count": null,
            "flex_flow": null,
            "width": null,
            "min_width": null,
            "border": null,
            "align_items": null,
            "bottom": null,
            "_model_module": "@jupyter-widgets/base",
            "top": null,
            "grid_column": null,
            "overflow_y": null,
            "overflow_x": null,
            "grid_auto_flow": null,
            "grid_area": null,
            "grid_template_columns": null,
            "flex": null,
            "_model_name": "LayoutModel",
            "justify_items": null,
            "grid_row": null,
            "max_height": null,
            "align_content": null,
            "visibility": null,
            "align_self": null,
            "height": null,
            "min_height": null,
            "padding": null,
            "grid_auto_rows": null,
            "grid_gap": null,
            "max_width": null,
            "order": null,
            "_view_module_version": "1.2.0",
            "grid_template_areas": null,
            "object_position": null,
            "object_fit": null,
            "grid_auto_columns": null,
            "margin": null,
            "display": null,
            "left": null
          }
        },
        "9da83541258642d288f02a886c4d63b3": {
          "model_module": "@jupyter-widgets/controls",
          "model_name": "HBoxModel",
          "state": {
            "_view_name": "HBoxView",
            "_dom_classes": [],
            "_model_name": "HBoxModel",
            "_view_module": "@jupyter-widgets/controls",
            "_model_module_version": "1.5.0",
            "_view_count": null,
            "_view_module_version": "1.5.0",
            "box_style": "",
            "layout": "IPY_MODEL_ea09c4abb66a4498b40af1e39fbcebba",
            "_model_module": "@jupyter-widgets/controls",
            "children": [
              "IPY_MODEL_b96bf954cf014c86b9561b59d8d83944",
              "IPY_MODEL_8df0e7a911114a59aec29d81961f0b03"
            ]
          }
        },
        "ea09c4abb66a4498b40af1e39fbcebba": {
          "model_module": "@jupyter-widgets/base",
          "model_name": "LayoutModel",
          "state": {
            "_view_name": "LayoutView",
            "grid_template_rows": null,
            "right": null,
            "justify_content": null,
            "_view_module": "@jupyter-widgets/base",
            "overflow": null,
            "_model_module_version": "1.2.0",
            "_view_count": null,
            "flex_flow": null,
            "width": null,
            "min_width": null,
            "border": null,
            "align_items": null,
            "bottom": null,
            "_model_module": "@jupyter-widgets/base",
            "top": null,
            "grid_column": null,
            "overflow_y": null,
            "overflow_x": null,
            "grid_auto_flow": null,
            "grid_area": null,
            "grid_template_columns": null,
            "flex": null,
            "_model_name": "LayoutModel",
            "justify_items": null,
            "grid_row": null,
            "max_height": null,
            "align_content": null,
            "visibility": null,
            "align_self": null,
            "height": null,
            "min_height": null,
            "padding": null,
            "grid_auto_rows": null,
            "grid_gap": null,
            "max_width": null,
            "order": null,
            "_view_module_version": "1.2.0",
            "grid_template_areas": null,
            "object_position": null,
            "object_fit": null,
            "grid_auto_columns": null,
            "margin": null,
            "display": null,
            "left": null
          }
        },
        "b96bf954cf014c86b9561b59d8d83944": {
          "model_module": "@jupyter-widgets/controls",
          "model_name": "FloatProgressModel",
          "state": {
            "_view_name": "ProgressView",
            "style": "IPY_MODEL_f9035d93b8f44575935aec731755c8f7",
            "_dom_classes": [],
            "description": "100%",
            "_model_name": "FloatProgressModel",
            "bar_style": "success",
            "max": 46827520,
            "_view_module": "@jupyter-widgets/controls",
            "_model_module_version": "1.5.0",
            "value": 46827520,
            "_view_count": null,
            "_view_module_version": "1.5.0",
            "orientation": "horizontal",
            "min": 0,
            "description_tooltip": null,
            "_model_module": "@jupyter-widgets/controls",
            "layout": "IPY_MODEL_3ba9eb4df2714b4390dff9805d5cf757"
          }
        },
        "8df0e7a911114a59aec29d81961f0b03": {
          "model_module": "@jupyter-widgets/controls",
          "model_name": "HTMLModel",
          "state": {
            "_view_name": "HTMLView",
            "style": "IPY_MODEL_cdd966910fc64d93a70161c31b68bfb7",
            "_dom_classes": [],
            "description": "",
            "_model_name": "HTMLModel",
            "placeholder": "​",
            "_view_module": "@jupyter-widgets/controls",
            "_model_module_version": "1.5.0",
            "value": " 44.7M/44.7M [04:45&lt;00:00, 164kB/s]",
            "_view_count": null,
            "_view_module_version": "1.5.0",
            "description_tooltip": null,
            "_model_module": "@jupyter-widgets/controls",
            "layout": "IPY_MODEL_6db7a58b5ccb47f5abc63a3b94787097"
          }
        },
        "f9035d93b8f44575935aec731755c8f7": {
          "model_module": "@jupyter-widgets/controls",
          "model_name": "ProgressStyleModel",
          "state": {
            "_view_name": "StyleView",
            "_model_name": "ProgressStyleModel",
            "description_width": "initial",
            "_view_module": "@jupyter-widgets/base",
            "_model_module_version": "1.5.0",
            "_view_count": null,
            "_view_module_version": "1.2.0",
            "bar_color": null,
            "_model_module": "@jupyter-widgets/controls"
          }
        },
        "3ba9eb4df2714b4390dff9805d5cf757": {
          "model_module": "@jupyter-widgets/base",
          "model_name": "LayoutModel",
          "state": {
            "_view_name": "LayoutView",
            "grid_template_rows": null,
            "right": null,
            "justify_content": null,
            "_view_module": "@jupyter-widgets/base",
            "overflow": null,
            "_model_module_version": "1.2.0",
            "_view_count": null,
            "flex_flow": null,
            "width": null,
            "min_width": null,
            "border": null,
            "align_items": null,
            "bottom": null,
            "_model_module": "@jupyter-widgets/base",
            "top": null,
            "grid_column": null,
            "overflow_y": null,
            "overflow_x": null,
            "grid_auto_flow": null,
            "grid_area": null,
            "grid_template_columns": null,
            "flex": null,
            "_model_name": "LayoutModel",
            "justify_items": null,
            "grid_row": null,
            "max_height": null,
            "align_content": null,
            "visibility": null,
            "align_self": null,
            "height": null,
            "min_height": null,
            "padding": null,
            "grid_auto_rows": null,
            "grid_gap": null,
            "max_width": null,
            "order": null,
            "_view_module_version": "1.2.0",
            "grid_template_areas": null,
            "object_position": null,
            "object_fit": null,
            "grid_auto_columns": null,
            "margin": null,
            "display": null,
            "left": null
          }
        },
        "cdd966910fc64d93a70161c31b68bfb7": {
          "model_module": "@jupyter-widgets/controls",
          "model_name": "DescriptionStyleModel",
          "state": {
            "_view_name": "StyleView",
            "_model_name": "DescriptionStyleModel",
            "description_width": "",
            "_view_module": "@jupyter-widgets/base",
            "_model_module_version": "1.5.0",
            "_view_count": null,
            "_view_module_version": "1.2.0",
            "_model_module": "@jupyter-widgets/controls"
          }
        },
        "6db7a58b5ccb47f5abc63a3b94787097": {
          "model_module": "@jupyter-widgets/base",
          "model_name": "LayoutModel",
          "state": {
            "_view_name": "LayoutView",
            "grid_template_rows": null,
            "right": null,
            "justify_content": null,
            "_view_module": "@jupyter-widgets/base",
            "overflow": null,
            "_model_module_version": "1.2.0",
            "_view_count": null,
            "flex_flow": null,
            "width": null,
            "min_width": null,
            "border": null,
            "align_items": null,
            "bottom": null,
            "_model_module": "@jupyter-widgets/base",
            "top": null,
            "grid_column": null,
            "overflow_y": null,
            "overflow_x": null,
            "grid_auto_flow": null,
            "grid_area": null,
            "grid_template_columns": null,
            "flex": null,
            "_model_name": "LayoutModel",
            "justify_items": null,
            "grid_row": null,
            "max_height": null,
            "align_content": null,
            "visibility": null,
            "align_self": null,
            "height": null,
            "min_height": null,
            "padding": null,
            "grid_auto_rows": null,
            "grid_gap": null,
            "max_width": null,
            "order": null,
            "_view_module_version": "1.2.0",
            "grid_template_areas": null,
            "object_position": null,
            "object_fit": null,
            "grid_auto_columns": null,
            "margin": null,
            "display": null,
            "left": null
          }
        }
      }
    }
  },
  "cells": [
    {
      "cell_type": "markdown",
      "metadata": {
        "id": "view-in-github",
        "colab_type": "text"
      },
      "source": [
        "<a href=\"https://colab.research.google.com/github/miguel-kjh/CIFAR10-PyTorch/blob/main/CIFAR10_PyTorch.ipynb\" target=\"_parent\"><img src=\"https://colab.research.google.com/assets/colab-badge.svg\" alt=\"Open In Colab\"/></a>"
      ]
    },
    {
      "cell_type": "code",
      "metadata": {
        "id": "xDtBqQR_d_qO"
      },
      "source": [
        "import torch\n",
        "import torchvision\n",
        "import torchvision.transforms as transforms\n",
        "import torch.optim as opt"
      ],
      "execution_count": null,
      "outputs": []
    },
    {
      "cell_type": "code",
      "metadata": {
        "id": "0yAfH1xBfFfz",
        "outputId": "2e4fcef2-be2a-428e-ae94-9e90ea212383",
        "colab": {
          "base_uri": "https://localhost:8080/",
          "height": 34
        }
      },
      "source": [
        "device = torch.device(\"cuda:0\" if torch.cuda.is_available() else \"cpu\")\n",
        "print(device)"
      ],
      "execution_count": null,
      "outputs": [
        {
          "output_type": "stream",
          "text": [
            "cuda:0\n"
          ],
          "name": "stdout"
        }
      ]
    },
    {
      "cell_type": "code",
      "metadata": {
        "id": "f7wCRVk4eK4f",
        "outputId": "0390c732-b988-4437-f5b2-1632d4d25b35",
        "colab": {
          "base_uri": "https://localhost:8080/",
          "height": 52
        }
      },
      "source": [
        "BATCH_SIZE = 64\n",
        "transform = transforms.Compose(\n",
        "    [transforms.ToTensor(),\n",
        "     transforms.Normalize((0.5, 0.5, 0.5), (0.5, 0.5, 0.5))])\n",
        "\n",
        "trainset = torchvision.datasets.CIFAR10(root='./data', train=True,\n",
        "                                        download=True, transform=transform, )\n",
        "trainloader = torch.utils.data.DataLoader(trainset, batch_size=BATCH_SIZE,\n",
        "                                          shuffle=True, num_workers=2)\n",
        "\n",
        "testset = torchvision.datasets.CIFAR10(root='./data', train=False,\n",
        "                                       download=True, transform=transform)\n",
        "testloader = torch.utils.data.DataLoader(testset, batch_size=BATCH_SIZE,\n",
        "                                         shuffle=False, num_workers=2)\n",
        "\n",
        "classes = ('plane', 'car', 'bird', 'cat',\n",
        "           'deer', 'dog', 'frog', 'horse', 'ship', 'truck')"
      ],
      "execution_count": null,
      "outputs": [
        {
          "output_type": "stream",
          "text": [
            "Files already downloaded and verified\n",
            "Files already downloaded and verified\n"
          ],
          "name": "stdout"
        }
      ]
    },
    {
      "cell_type": "code",
      "metadata": {
        "id": "uH48IRHaePs0",
        "outputId": "b7a3a925-5f24-4491-f745-b619e5e0dee4",
        "colab": {
          "base_uri": "https://localhost:8080/",
          "height": 173
        }
      },
      "source": [
        "import matplotlib.pyplot as plt\n",
        "import numpy as np\n",
        "\n",
        "# functions to show an image\n",
        "\n",
        "\n",
        "def imshow(img):\n",
        "    img = img / 2 + 0.5     # unnormalize\n",
        "    npimg = img.numpy()\n",
        "    plt.imshow(np.transpose(npimg, (1, 2, 0)))\n",
        "    plt.show()\n",
        "\n",
        "\n",
        "# get some random training images\n",
        "dataiter = iter(trainloader)\n",
        "images, labels = dataiter.next()\n",
        "print(images.shape)\n",
        "# show images\n",
        "imshow(torchvision.utils.make_grid(images[0:4]))\n",
        "# print labels\n",
        "print(' '.join('%5s' % classes[labels[j]] for j in range(4)))"
      ],
      "execution_count": null,
      "outputs": [
        {
          "output_type": "stream",
          "text": [
            "torch.Size([64, 3, 32, 32])\n"
          ],
          "name": "stdout"
        },
        {
          "output_type": "display_data",
          "data": {
            "image/png": "[encoded data removed]",
            "text/plain": [
              "<Figure size 432x288 with 1 Axes>"
            ]
          },
          "metadata": {
            "tags": [],
            "needs_background": "light"
          }
        },
        {
          "output_type": "stream",
          "text": [
            "  car  ship horse   dog\n"
          ],
          "name": "stdout"
        }
      ]
    },
    {
      "cell_type": "code",
      "metadata": {
        "id": "Gmg5VrBDNzk6"
      },
      "source": [
        "def train(model, epochs):\n",
        "\n",
        "  criterion = nn.CrossEntropyLoss()\n",
        "  optimizer = opt.Adam(model.parameters(), lr = 0.001)\n",
        "  listLost = []\n",
        "  listAcc  = []\n",
        "\n",
        "  for epoch in range(epochs):  # loop over the dataset multiple times\n",
        "\n",
        "      correct = 0\n",
        "      for i, data in enumerate(trainloader, 0):\n",
        "          # get the inputs; data is a list of [inputs, labels]\n",
        "          inputs, labels = data[0].to(device), data[1].to(device)\n",
        "\n",
        "          # zero the parameter gradients\n",
        "          optimizer.zero_grad()\n",
        "\n",
        "          # forward + backward + optimize\n",
        "          outputs = model(inputs)\n",
        "          loss = criterion(outputs, labels)\n",
        "          loss.backward()\n",
        "          optimizer.step()\n",
        "\n",
        "          # Total correct predictions\n",
        "          predicted = torch.max(outputs.data, 1)[1] \n",
        "          correct += (predicted == labels).sum()\n",
        "          if i % 50 == 0:\n",
        "              acc = float(correct*100) / float(BATCH_SIZE*(i+1))\n",
        "              print('Epoch : {} [{}/{} ({:.0f}%)]\\tLoss: {:.6f}\\t Accuracy:{:.3f}%'.format(\n",
        "                  epoch, i*len(inputs), len(trainloader.dataset), 100.*i / len(trainloader), loss, acc))\n",
        "              listLost.append(loss)\n",
        "              listAcc.append(acc)\n",
        "\n",
        "  print('Finished Training')\n",
        "  return (listLost,listAcc)"
      ],
      "execution_count": null,
      "outputs": []
    },
    {
      "cell_type": "code",
      "metadata": {
        "id": "3cDmfaSjSGuE"
      },
      "source": [
        "def plot(data, title, xlabel, ylabel):\n",
        "  plt.plot(data)\n",
        "  plt.xlabel(xlabel)\n",
        "  plt.ylabel(ylabel)\n",
        "  plt.title(title)\n",
        "  plt.show()"
      ],
      "execution_count": null,
      "outputs": []
    },
    {
      "cell_type": "code",
      "metadata": {
        "id": "JaUBffl5U1QJ"
      },
      "source": [
        "def prediction(model):\n",
        "  dataiter = iter(testloader)\n",
        "  images, labels = dataiter.next()\n",
        "\n",
        "  # print images\n",
        "  imshow(torchvision.utils.make_grid(images[0:4]))\n",
        "  print('GroundTruth: ', ' '.join('%5s' % classes[labels[j]] for j in range(4)))\n",
        "  outputs = model(images.to(device))\n",
        "  _, predicted = torch.max(outputs, 1)\n",
        "\n",
        "  print('Predicted: ', ' '.join('%5s' % classes[predicted[j]]\n",
        "                                for j in range(4)))"
      ],
      "execution_count": null,
      "outputs": []
    },
    {
      "cell_type": "code",
      "metadata": {
        "id": "YP1lHXkwVPrC"
      },
      "source": [
        "def test(model):\n",
        "  correct = 0\n",
        "  total = 0\n",
        "  with torch.no_grad():\n",
        "      for data in testloader:\n",
        "          images, labels = data[0].to(device), data[1].to(device)\n",
        "          outputs = model(images)\n",
        "          _, predicted = torch.max(outputs.data, 1)\n",
        "          total += labels.size(0)\n",
        "          correct += (predicted == labels).sum().item()\n",
        "\n",
        "  print('Accuracy of the network on the 10000 test images: %d %%' % (\n",
        "      100 * correct / total))"
      ],
      "execution_count": null,
      "outputs": []
    },
    {
      "cell_type": "code",
      "metadata": {
        "id": "iw7sjg_1VXqS"
      },
      "source": [
        "def test_class(model):\n",
        "  class_correct = list(0. for i in range(10))\n",
        "  class_total = list(0. for i in range(10))\n",
        "  with torch.no_grad():\n",
        "      for data in testloader:\n",
        "          images, labels = data[0].to(device), data[1].to(device)\n",
        "          outputs = model(images)\n",
        "          _, predicted = torch.max(outputs, 1)\n",
        "          c = (predicted == labels).squeeze()\n",
        "          for i in range(4):\n",
        "              label = labels[i]\n",
        "              class_correct[label] += c[i].item()\n",
        "              class_total[label] += 1\n",
        "\n",
        "\n",
        "  for i in range(10):\n",
        "      print('Accuracy of %5s : %2d %%' % (\n",
        "          classes[i], 100 * class_correct[i] / class_total[i]))"
      ],
      "execution_count": null,
      "outputs": []
    },
    {
      "cell_type": "markdown",
      "metadata": {
        "id": "eK2rj2moxVRz"
      },
      "source": [
        "## CNN"
      ]
    },
    {
      "cell_type": "code",
      "metadata": {
        "id": "JPAN0CbWeXdF"
      },
      "source": [
        "import torch.nn as nn\n",
        "import torch.nn.functional as F\n",
        "\n",
        "class Net(nn.Module):\n",
        "    def __init__(self):\n",
        "        super(Net, self).__init__()\n",
        "        self.conv1 = nn.Conv2d(3, 32, 3)\n",
        "        self.conv2 = nn.Conv2d(32, 32, 3)\n",
        "        self.pool  = nn.MaxPool2d(2, 2)\n",
        "\n",
        "        self.fc1 = nn.Linear(32 * 6 * 6, 120)\n",
        "        self.fc2 = nn.Linear(120, 84)\n",
        "        self.fc3 = nn.Linear(84, 10)\n",
        "\n",
        "        self.drop = nn.Dropout(p=0.25)\n",
        "\n",
        "    def forward(self, x):\n",
        "        x = self.pool(F.relu(self.conv1(x)))\n",
        "        x = self.pool(F.relu(self.conv2(x)))\n",
        "        x = self.drop(x)\n",
        "        x = x.view(-1, 32 * 6 * 6)\n",
        "        x = F.relu(self.fc1(x))\n",
        "        x = F.relu(self.fc2(x))\n",
        "        x = self.drop(x)\n",
        "        x = self.fc3(x)\n",
        "        return x\n",
        "\n",
        "\n",
        "net = Net().to(device) # GPU"
      ],
      "execution_count": null,
      "outputs": []
    },
    {
      "cell_type": "code",
      "metadata": {
        "id": "x8nuLPe0Vtq9",
        "outputId": "633b7281-1ecf-4ab3-fe10-7344fb6e4349",
        "colab": {
          "base_uri": "https://localhost:8080/",
          "height": 1000
        }
      },
      "source": [
        "loss, acc = train(net, 10)"
      ],
      "execution_count": null,
      "outputs": [
        {
          "output_type": "stream",
          "text": [
            "Epoch : 0 [0/50000 (0%)]\tLoss: 0.900876\t Accuracy:67.188%\n",
            "Epoch : 0 [3200/50000 (6%)]\tLoss: 0.755048\t Accuracy:70.619%\n",
            "Epoch : 0 [6400/50000 (13%)]\tLoss: 0.872637\t Accuracy:70.653%\n",
            "Epoch : 0 [9600/50000 (19%)]\tLoss: 0.596474\t Accuracy:71.099%\n",
            "Epoch : 0 [12800/50000 (26%)]\tLoss: 1.061853\t Accuracy:71.199%\n",
            "Epoch : 0 [16000/50000 (32%)]\tLoss: 0.980000\t Accuracy:71.035%\n",
            "Epoch : 0 [19200/50000 (38%)]\tLoss: 0.981915\t Accuracy:70.951%\n",
            "Epoch : 0 [22400/50000 (45%)]\tLoss: 0.770819\t Accuracy:71.060%\n",
            "Epoch : 0 [25600/50000 (51%)]\tLoss: 0.928628\t Accuracy:71.076%\n",
            "Epoch : 0 [28800/50000 (58%)]\tLoss: 0.575168\t Accuracy:71.134%\n",
            "Epoch : 0 [32000/50000 (64%)]\tLoss: 0.854401\t Accuracy:71.289%\n",
            "Epoch : 0 [35200/50000 (70%)]\tLoss: 0.724022\t Accuracy:71.407%\n",
            "Epoch : 0 [38400/50000 (77%)]\tLoss: 0.781958\t Accuracy:71.529%\n",
            "Epoch : 0 [41600/50000 (83%)]\tLoss: 0.846215\t Accuracy:71.431%\n",
            "Epoch : 0 [44800/50000 (90%)]\tLoss: 0.941253\t Accuracy:71.385%\n",
            "Epoch : 0 [48000/50000 (96%)]\tLoss: 0.781908\t Accuracy:71.498%\n",
            "Epoch : 1 [0/50000 (0%)]\tLoss: 0.990168\t Accuracy:68.750%\n",
            "Epoch : 1 [3200/50000 (6%)]\tLoss: 0.709580\t Accuracy:73.560%\n",
            "Epoch : 1 [6400/50000 (13%)]\tLoss: 0.731473\t Accuracy:74.397%\n",
            "Epoch : 1 [9600/50000 (19%)]\tLoss: 0.727966\t Accuracy:73.986%\n",
            "Epoch : 1 [12800/50000 (26%)]\tLoss: 0.944618\t Accuracy:73.577%\n",
            "Epoch : 1 [16000/50000 (32%)]\tLoss: 1.098172\t Accuracy:73.537%\n",
            "Epoch : 1 [19200/50000 (38%)]\tLoss: 0.772925\t Accuracy:73.199%\n",
            "Epoch : 1 [22400/50000 (45%)]\tLoss: 0.819478\t Accuracy:72.979%\n",
            "Epoch : 1 [25600/50000 (51%)]\tLoss: 0.730111\t Accuracy:72.974%\n",
            "Epoch : 1 [28800/50000 (58%)]\tLoss: 0.667536\t Accuracy:72.921%\n",
            "Epoch : 1 [32000/50000 (64%)]\tLoss: 0.859397\t Accuracy:72.730%\n",
            "Epoch : 1 [35200/50000 (70%)]\tLoss: 0.879600\t Accuracy:72.825%\n",
            "Epoch : 1 [38400/50000 (77%)]\tLoss: 0.770509\t Accuracy:72.795%\n",
            "Epoch : 1 [41600/50000 (83%)]\tLoss: 0.545633\t Accuracy:72.871%\n",
            "Epoch : 1 [44800/50000 (90%)]\tLoss: 0.723722\t Accuracy:72.847%\n",
            "Epoch : 1 [48000/50000 (96%)]\tLoss: 0.992123\t Accuracy:72.820%\n",
            "Epoch : 2 [0/50000 (0%)]\tLoss: 0.744699\t Accuracy:75.000%\n",
            "Epoch : 2 [3200/50000 (6%)]\tLoss: 0.610577\t Accuracy:72.335%\n",
            "Epoch : 2 [6400/50000 (13%)]\tLoss: 0.813298\t Accuracy:72.834%\n",
            "Epoch : 2 [9600/50000 (19%)]\tLoss: 0.716680\t Accuracy:73.406%\n",
            "Epoch : 2 [12800/50000 (26%)]\tLoss: 0.831293\t Accuracy:73.624%\n",
            "Epoch : 2 [16000/50000 (32%)]\tLoss: 0.741935\t Accuracy:73.730%\n",
            "Epoch : 2 [19200/50000 (38%)]\tLoss: 0.766785\t Accuracy:73.723%\n",
            "Epoch : 2 [22400/50000 (45%)]\tLoss: 0.669627\t Accuracy:73.682%\n",
            "Epoch : 2 [25600/50000 (51%)]\tLoss: 0.785034\t Accuracy:73.535%\n",
            "Epoch : 2 [28800/50000 (58%)]\tLoss: 0.773162\t Accuracy:73.552%\n",
            "Epoch : 2 [32000/50000 (64%)]\tLoss: 0.800973\t Accuracy:73.650%\n",
            "Epoch : 2 [35200/50000 (70%)]\tLoss: 0.597234\t Accuracy:73.608%\n",
            "Epoch : 2 [38400/50000 (77%)]\tLoss: 0.620495\t Accuracy:73.653%\n",
            "Epoch : 2 [41600/50000 (83%)]\tLoss: 0.691176\t Accuracy:73.550%\n",
            "Epoch : 2 [44800/50000 (90%)]\tLoss: 0.858102\t Accuracy:73.567%\n",
            "Epoch : 2 [48000/50000 (96%)]\tLoss: 0.675204\t Accuracy:73.554%\n",
            "Epoch : 3 [0/50000 (0%)]\tLoss: 0.642743\t Accuracy:76.562%\n",
            "Epoch : 3 [3200/50000 (6%)]\tLoss: 0.786869\t Accuracy:74.816%\n",
            "Epoch : 3 [6400/50000 (13%)]\tLoss: 0.681219\t Accuracy:74.319%\n",
            "Epoch : 3 [9600/50000 (19%)]\tLoss: 0.595048\t Accuracy:74.472%\n",
            "Epoch : 3 [12800/50000 (26%)]\tLoss: 0.694174\t Accuracy:74.106%\n",
            "Epoch : 3 [16000/50000 (32%)]\tLoss: 0.597713\t Accuracy:74.303%\n",
            "Epoch : 3 [19200/50000 (38%)]\tLoss: 0.600840\t Accuracy:74.367%\n",
            "Epoch : 3 [22400/50000 (45%)]\tLoss: 0.755223\t Accuracy:74.519%\n",
            "Epoch : 3 [25600/50000 (51%)]\tLoss: 0.673311\t Accuracy:74.466%\n",
            "Epoch : 3 [28800/50000 (58%)]\tLoss: 0.659422\t Accuracy:74.449%\n",
            "Epoch : 3 [32000/50000 (64%)]\tLoss: 0.709644\t Accuracy:74.392%\n",
            "Epoch : 3 [35200/50000 (70%)]\tLoss: 0.676631\t Accuracy:74.379%\n",
            "Epoch : 3 [38400/50000 (77%)]\tLoss: 0.969325\t Accuracy:74.350%\n",
            "Epoch : 3 [41600/50000 (83%)]\tLoss: 0.998687\t Accuracy:74.285%\n",
            "Epoch : 3 [44800/50000 (90%)]\tLoss: 0.575397\t Accuracy:74.258%\n",
            "Epoch : 3 [48000/50000 (96%)]\tLoss: 0.794296\t Accuracy:74.253%\n",
            "Epoch : 4 [0/50000 (0%)]\tLoss: 0.613697\t Accuracy:81.250%\n",
            "Epoch : 4 [3200/50000 (6%)]\tLoss: 0.575263\t Accuracy:76.501%\n",
            "Epoch : 4 [6400/50000 (13%)]\tLoss: 0.689392\t Accuracy:75.774%\n",
            "Epoch : 4 [9600/50000 (19%)]\tLoss: 0.438580\t Accuracy:76.159%\n",
            "Epoch : 4 [12800/50000 (26%)]\tLoss: 0.582229\t Accuracy:76.127%\n",
            "Epoch : 4 [16000/50000 (32%)]\tLoss: 0.603811\t Accuracy:75.990%\n",
            "Epoch : 4 [19200/50000 (38%)]\tLoss: 0.666061\t Accuracy:76.028%\n",
            "Epoch : 4 [22400/50000 (45%)]\tLoss: 0.814407\t Accuracy:76.011%\n",
            "Epoch : 4 [25600/50000 (51%)]\tLoss: 0.787466\t Accuracy:75.935%\n",
            "Epoch : 4 [28800/50000 (58%)]\tLoss: 0.674341\t Accuracy:75.838%\n",
            "Epoch : 4 [32000/50000 (64%)]\tLoss: 0.518870\t Accuracy:75.767%\n",
            "Epoch : 4 [35200/50000 (70%)]\tLoss: 0.598444\t Accuracy:75.746%\n",
            "Epoch : 4 [38400/50000 (77%)]\tLoss: 0.700875\t Accuracy:75.697%\n",
            "Epoch : 4 [41600/50000 (83%)]\tLoss: 0.660288\t Accuracy:75.586%\n",
            "Epoch : 4 [44800/50000 (90%)]\tLoss: 0.773149\t Accuracy:75.510%\n",
            "Epoch : 4 [48000/50000 (96%)]\tLoss: 0.635545\t Accuracy:75.479%\n",
            "Epoch : 5 [0/50000 (0%)]\tLoss: 0.829382\t Accuracy:71.875%\n",
            "Epoch : 5 [3200/50000 (6%)]\tLoss: 0.637820\t Accuracy:76.042%\n",
            "Epoch : 5 [6400/50000 (13%)]\tLoss: 0.734926\t Accuracy:76.392%\n",
            "Epoch : 5 [9600/50000 (19%)]\tLoss: 0.602816\t Accuracy:76.449%\n",
            "Epoch : 5 [12800/50000 (26%)]\tLoss: 0.819852\t Accuracy:76.407%\n",
            "Epoch : 5 [16000/50000 (32%)]\tLoss: 0.549736\t Accuracy:76.357%\n",
            "Epoch : 5 [19200/50000 (38%)]\tLoss: 0.814897\t Accuracy:76.376%\n",
            "Epoch : 5 [22400/50000 (45%)]\tLoss: 0.388410\t Accuracy:76.527%\n",
            "Epoch : 5 [25600/50000 (51%)]\tLoss: 0.738473\t Accuracy:76.372%\n",
            "Epoch : 5 [28800/50000 (58%)]\tLoss: 0.722118\t Accuracy:76.265%\n",
            "Epoch : 5 [32000/50000 (64%)]\tLoss: 0.844949\t Accuracy:76.160%\n",
            "Epoch : 5 [35200/50000 (70%)]\tLoss: 0.593504\t Accuracy:76.072%\n",
            "Epoch : 5 [38400/50000 (77%)]\tLoss: 0.515042\t Accuracy:75.902%\n",
            "Epoch : 5 [41600/50000 (83%)]\tLoss: 0.896476\t Accuracy:75.811%\n",
            "Epoch : 5 [44800/50000 (90%)]\tLoss: 0.781380\t Accuracy:75.751%\n",
            "Epoch : 5 [48000/50000 (96%)]\tLoss: 0.875788\t Accuracy:75.685%\n",
            "Epoch : 6 [0/50000 (0%)]\tLoss: 0.620814\t Accuracy:75.000%\n",
            "Epoch : 6 [3200/50000 (6%)]\tLoss: 0.557311\t Accuracy:78.462%\n",
            "Epoch : 6 [6400/50000 (13%)]\tLoss: 0.650016\t Accuracy:77.831%\n",
            "Epoch : 6 [9600/50000 (19%)]\tLoss: 0.807621\t Accuracy:77.742%\n",
            "Epoch : 6 [12800/50000 (26%)]\tLoss: 0.671184\t Accuracy:77.231%\n",
            "Epoch : 6 [16000/50000 (32%)]\tLoss: 0.657064\t Accuracy:77.079%\n",
            "Epoch : 6 [19200/50000 (38%)]\tLoss: 0.934717\t Accuracy:77.040%\n",
            "Epoch : 6 [22400/50000 (45%)]\tLoss: 0.589657\t Accuracy:76.914%\n",
            "Epoch : 6 [25600/50000 (51%)]\tLoss: 0.778156\t Accuracy:76.859%\n",
            "Epoch : 6 [28800/50000 (58%)]\tLoss: 0.567725\t Accuracy:76.819%\n",
            "Epoch : 6 [32000/50000 (64%)]\tLoss: 0.790052\t Accuracy:76.853%\n",
            "Epoch : 6 [35200/50000 (70%)]\tLoss: 0.383237\t Accuracy:76.818%\n",
            "Epoch : 6 [38400/50000 (77%)]\tLoss: 0.753476\t Accuracy:76.672%\n",
            "Epoch : 6 [41600/50000 (83%)]\tLoss: 0.571799\t Accuracy:76.603%\n",
            "Epoch : 6 [44800/50000 (90%)]\tLoss: 0.736752\t Accuracy:76.618%\n",
            "Epoch : 6 [48000/50000 (96%)]\tLoss: 0.589263\t Accuracy:76.567%\n",
            "Epoch : 7 [0/50000 (0%)]\tLoss: 0.475102\t Accuracy:81.250%\n",
            "Epoch : 7 [3200/50000 (6%)]\tLoss: 0.580009\t Accuracy:78.676%\n",
            "Epoch : 7 [6400/50000 (13%)]\tLoss: 0.631530\t Accuracy:78.496%\n",
            "Epoch : 7 [9600/50000 (19%)]\tLoss: 0.778709\t Accuracy:78.363%\n",
            "Epoch : 7 [12800/50000 (26%)]\tLoss: 0.586226\t Accuracy:78.141%\n",
            "Epoch : 7 [16000/50000 (32%)]\tLoss: 0.565298\t Accuracy:77.727%\n",
            "Epoch : 7 [19200/50000 (38%)]\tLoss: 0.726619\t Accuracy:77.601%\n",
            "Epoch : 7 [22400/50000 (45%)]\tLoss: 0.465198\t Accuracy:77.520%\n",
            "Epoch : 7 [25600/50000 (51%)]\tLoss: 0.866600\t Accuracy:77.451%\n",
            "Epoch : 7 [28800/50000 (58%)]\tLoss: 0.660339\t Accuracy:77.391%\n",
            "Epoch : 7 [32000/50000 (64%)]\tLoss: 0.839087\t Accuracy:77.292%\n",
            "Epoch : 7 [35200/50000 (70%)]\tLoss: 0.483612\t Accuracy:77.269%\n",
            "Epoch : 7 [38400/50000 (77%)]\tLoss: 0.700062\t Accuracy:77.290%\n",
            "Epoch : 7 [41600/50000 (83%)]\tLoss: 0.643653\t Accuracy:77.256%\n",
            "Epoch : 7 [44800/50000 (90%)]\tLoss: 0.653397\t Accuracy:77.182%\n",
            "Epoch : 7 [48000/50000 (96%)]\tLoss: 0.763781\t Accuracy:77.189%\n",
            "Epoch : 8 [0/50000 (0%)]\tLoss: 0.703662\t Accuracy:71.875%\n",
            "Epoch : 8 [3200/50000 (6%)]\tLoss: 0.611537\t Accuracy:78.339%\n",
            "Epoch : 8 [6400/50000 (13%)]\tLoss: 0.562340\t Accuracy:78.156%\n",
            "Epoch : 8 [9600/50000 (19%)]\tLoss: 0.704657\t Accuracy:78.435%\n",
            "Epoch : 8 [12800/50000 (26%)]\tLoss: 0.555870\t Accuracy:78.249%\n",
            "Epoch : 8 [16000/50000 (32%)]\tLoss: 0.604374\t Accuracy:78.281%\n",
            "Epoch : 8 [19200/50000 (38%)]\tLoss: 0.572960\t Accuracy:78.312%\n",
            "Epoch : 8 [22400/50000 (45%)]\tLoss: 0.499784\t Accuracy:78.397%\n",
            "Epoch : 8 [25600/50000 (51%)]\tLoss: 0.720081\t Accuracy:78.316%\n",
            "Epoch : 8 [28800/50000 (58%)]\tLoss: 0.720531\t Accuracy:78.250%\n",
            "Epoch : 8 [32000/50000 (64%)]\tLoss: 0.851978\t Accuracy:78.035%\n",
            "Epoch : 8 [35200/50000 (70%)]\tLoss: 0.328208\t Accuracy:78.017%\n",
            "Epoch : 8 [38400/50000 (77%)]\tLoss: 0.548298\t Accuracy:77.901%\n",
            "Epoch : 8 [41600/50000 (83%)]\tLoss: 0.555091\t Accuracy:77.916%\n",
            "Epoch : 8 [44800/50000 (90%)]\tLoss: 0.485880\t Accuracy:77.882%\n",
            "Epoch : 8 [48000/50000 (96%)]\tLoss: 0.704782\t Accuracy:77.773%\n",
            "Epoch : 9 [0/50000 (0%)]\tLoss: 0.568218\t Accuracy:76.562%\n",
            "Epoch : 9 [3200/50000 (6%)]\tLoss: 0.560130\t Accuracy:79.504%\n",
            "Epoch : 9 [6400/50000 (13%)]\tLoss: 0.435460\t Accuracy:79.022%\n",
            "Epoch : 9 [9600/50000 (19%)]\tLoss: 0.476285\t Accuracy:78.870%\n",
            "Epoch : 9 [12800/50000 (26%)]\tLoss: 0.614999\t Accuracy:78.817%\n",
            "Epoch : 9 [16000/50000 (32%)]\tLoss: 0.717878\t Accuracy:78.698%\n",
            "Epoch : 9 [19200/50000 (38%)]\tLoss: 0.649435\t Accuracy:78.613%\n",
            "Epoch : 9 [22400/50000 (45%)]\tLoss: 0.718664\t Accuracy:78.535%\n",
            "Epoch : 9 [25600/50000 (51%)]\tLoss: 0.602691\t Accuracy:78.429%\n",
            "Epoch : 9 [28800/50000 (58%)]\tLoss: 0.516416\t Accuracy:78.503%\n",
            "Epoch : 9 [32000/50000 (64%)]\tLoss: 0.390924\t Accuracy:78.477%\n",
            "Epoch : 9 [35200/50000 (70%)]\tLoss: 0.628303\t Accuracy:78.550%\n",
            "Epoch : 9 [38400/50000 (77%)]\tLoss: 0.692258\t Accuracy:78.453%\n",
            "Epoch : 9 [41600/50000 (83%)]\tLoss: 0.546301\t Accuracy:78.449%\n",
            "Epoch : 9 [44800/50000 (90%)]\tLoss: 0.602646\t Accuracy:78.372%\n",
            "Epoch : 9 [48000/50000 (96%)]\tLoss: 0.624827\t Accuracy:78.298%\n",
            "Finished Training\n"
          ],
          "name": "stdout"
        }
      ]
    },
    {
      "cell_type": "code",
      "metadata": {
        "id": "XWzE1J3kWAk7",
        "outputId": "5d520a28-928c-499c-fbd3-0bd942b2a042",
        "colab": {
          "base_uri": "https://localhost:8080/",
          "height": 573
        }
      },
      "source": [
        "plot(loss, \"Plot of error\",  \"Epochs\", \"Lost\")\n",
        "plot(acc, \"Plot of accuracy\", \"Epochs\", \"Accuracy\")"
      ],
      "execution_count": null,
      "outputs": [
        {
          "output_type": "display_data",
          "data": {
            "image/png": "[encoded data removed]",
            "text/plain": [
              "<Figure size 432x288 with 1 Axes>"
            ]
          },
          "metadata": {
            "tags": [],
            "needs_background": "light"
          }
        },
        {
          "output_type": "display_data",
          "data": {
            "image/png": "[encoded data removed]",
            "text/plain": [
              "<Figure size 432x288 with 1 Axes>"
            ]
          },
          "metadata": {
            "tags": [],
            "needs_background": "light"
          }
        }
      ]
    },
    {
      "cell_type": "code",
      "metadata": {
        "id": "8sEUDwj8WewF",
        "outputId": "7208bf8b-c893-4d74-84b8-d66ac9ae529a",
        "colab": {
          "base_uri": "https://localhost:8080/",
          "height": 34
        }
      },
      "source": [
        "test(net)"
      ],
      "execution_count": null,
      "outputs": [
        {
          "output_type": "stream",
          "text": [
            "Accuracy of the network on the 10000 test images: 68 %\n"
          ],
          "name": "stdout"
        }
      ]
    },
    {
      "cell_type": "code",
      "metadata": {
        "id": "AgGE6gnSW0fI",
        "outputId": "d0667386-1991-4b11-cc31-eb31c7135aec",
        "colab": {
          "base_uri": "https://localhost:8080/",
          "height": 191
        }
      },
      "source": [
        "test_class(net)"
      ],
      "execution_count": null,
      "outputs": [
        {
          "output_type": "stream",
          "text": [
            "Accuracy of plane : 73 %\n",
            "Accuracy of   car : 82 %\n",
            "Accuracy of  bird : 60 %\n",
            "Accuracy of   cat : 50 %\n",
            "Accuracy of  deer : 65 %\n",
            "Accuracy of   dog : 52 %\n",
            "Accuracy of  frog : 78 %\n",
            "Accuracy of horse : 73 %\n",
            "Accuracy of  ship : 74 %\n",
            "Accuracy of truck : 79 %\n"
          ],
          "name": "stdout"
        }
      ]
    },
    {
      "cell_type": "markdown",
      "metadata": {
        "id": "OLhJuZJxn6Pg"
      },
      "source": [
        "# VGG16"
      ]
    },
    {
      "cell_type": "code",
      "metadata": {
        "id": "bauYAcxOn85O",
        "outputId": "bd06ef98-6361-44c9-fecd-29ada202ba7c",
        "colab": {
          "base_uri": "https://localhost:8080/",
          "height": 101,
          "referenced_widgets": [
            "4b78c00e39bd4072bfbb912546f26692",
            "d1cf228f89b34418b1993308117c970a",
            "ee6806a8feb14644afaab6c1cc442fe3",
            "f4790891b6194b09a14a1762f0f38cb0",
            "08873ee32b0b4358a0efbf94d7754029",
            "339d05e9b57e4b16bffcbda9454c3efa",
            "94aca82d6efc4367b5b0b9fbc96726a8",
            "02b1175539ca4631a4ff61e2a7ed1b87"
          ]
        }
      },
      "source": [
        "net = torch.hub.load('pytorch/vision:v0.6.0', 'vgg16', pretrained=True).to(device)"
      ],
      "execution_count": null,
      "outputs": [
        {
          "output_type": "stream",
          "text": [
            "Downloading: \"https://github.com/pytorch/vision/archive/v0.6.0.zip\" to /root/.cache/torch/hub/v0.6.0.zip\n",
            "Downloading: \"https://download.pytorch.org/models/vgg16-397923af.pth\" to /root/.cache/torch/hub/checkpoints/vgg16-397923af.pth\n"
          ],
          "name": "stderr"
        },
        {
          "output_type": "display_data",
          "data": {
            "application/vnd.jupyter.widget-view+json": {
              "model_id": "4b78c00e39bd4072bfbb912546f26692",
              "version_minor": 0,
              "version_major": 2
            },
            "text/plain": [
              "HBox(children=(FloatProgress(value=0.0, max=553433881.0), HTML(value='')))"
            ]
          },
          "metadata": {
            "tags": []
          }
        },
        {
          "output_type": "stream",
          "text": [
            "\n"
          ],
          "name": "stdout"
        }
      ]
    },
    {
      "cell_type": "code",
      "metadata": {
        "id": "k0IcWKzLfPtV",
        "outputId": "19e93511-70de-423f-949e-726329f4a1bd",
        "colab": {
          "base_uri": "https://localhost:8080/",
          "height": 1000
        }
      },
      "source": [
        "loss, acc = train(net, 10)"
      ],
      "execution_count": null,
      "outputs": [
        {
          "output_type": "stream",
          "text": [
            "Epoch : 0 [0/50000 (0%)]\tLoss: 17.965185\t Accuracy:0.000%\n",
            "Epoch : 0 [3200/50000 (6%)]\tLoss: 2.127725\t Accuracy:11.887%\n",
            "Epoch : 0 [6400/50000 (13%)]\tLoss: 2.137486\t Accuracy:15.857%\n",
            "Epoch : 0 [9600/50000 (19%)]\tLoss: 1.613185\t Accuracy:18.781%\n",
            "Epoch : 0 [12800/50000 (26%)]\tLoss: 1.737470\t Accuracy:21.720%\n",
            "Epoch : 0 [16000/50000 (32%)]\tLoss: 1.667631\t Accuracy:23.649%\n",
            "Epoch : 0 [19200/50000 (38%)]\tLoss: 1.480437\t Accuracy:25.145%\n",
            "Epoch : 0 [22400/50000 (45%)]\tLoss: 1.690907\t Accuracy:26.585%\n",
            "Epoch : 0 [25600/50000 (51%)]\tLoss: 1.307557\t Accuracy:28.129%\n",
            "Epoch : 0 [28800/50000 (58%)]\tLoss: 1.440407\t Accuracy:29.445%\n",
            "Epoch : 0 [32000/50000 (64%)]\tLoss: 1.460352\t Accuracy:30.723%\n",
            "Epoch : 0 [35200/50000 (70%)]\tLoss: 1.386955\t Accuracy:31.681%\n",
            "Epoch : 0 [38400/50000 (77%)]\tLoss: 1.175732\t Accuracy:32.857%\n",
            "Epoch : 0 [41600/50000 (83%)]\tLoss: 1.380974\t Accuracy:33.948%\n",
            "Epoch : 0 [44800/50000 (90%)]\tLoss: 1.367253\t Accuracy:35.135%\n",
            "Epoch : 0 [48000/50000 (96%)]\tLoss: 1.281467\t Accuracy:36.441%\n",
            "Epoch : 1 [0/50000 (0%)]\tLoss: 1.115689\t Accuracy:60.938%\n",
            "Epoch : 1 [3200/50000 (6%)]\tLoss: 1.529589\t Accuracy:55.974%\n",
            "Epoch : 1 [6400/50000 (13%)]\tLoss: 0.949586\t Accuracy:57.704%\n",
            "Epoch : 1 [9600/50000 (19%)]\tLoss: 1.265310\t Accuracy:58.661%\n",
            "Epoch : 1 [12800/50000 (26%)]\tLoss: 0.860988\t Accuracy:59.476%\n",
            "Epoch : 1 [16000/50000 (32%)]\tLoss: 0.867964\t Accuracy:59.680%\n",
            "Epoch : 1 [19200/50000 (38%)]\tLoss: 0.833323\t Accuracy:60.382%\n",
            "Epoch : 1 [22400/50000 (45%)]\tLoss: 1.230975\t Accuracy:60.955%\n",
            "Epoch : 1 [25600/50000 (51%)]\tLoss: 1.165168\t Accuracy:61.097%\n",
            "Epoch : 1 [28800/50000 (58%)]\tLoss: 0.787728\t Accuracy:61.637%\n",
            "Epoch : 1 [32000/50000 (64%)]\tLoss: 0.858081\t Accuracy:61.745%\n",
            "Epoch : 1 [35200/50000 (70%)]\tLoss: 1.396398\t Accuracy:62.202%\n",
            "Epoch : 1 [38400/50000 (77%)]\tLoss: 1.035457\t Accuracy:62.549%\n",
            "Epoch : 1 [41600/50000 (83%)]\tLoss: 0.890901\t Accuracy:62.910%\n",
            "Epoch : 1 [44800/50000 (90%)]\tLoss: 0.956677\t Accuracy:63.256%\n",
            "Epoch : 1 [48000/50000 (96%)]\tLoss: 1.113293\t Accuracy:63.547%\n",
            "Epoch : 2 [0/50000 (0%)]\tLoss: 0.918760\t Accuracy:64.062%\n",
            "Epoch : 2 [3200/50000 (6%)]\tLoss: 1.022660\t Accuracy:69.792%\n",
            "Epoch : 2 [6400/50000 (13%)]\tLoss: 0.648843\t Accuracy:68.765%\n",
            "Epoch : 2 [9600/50000 (19%)]\tLoss: 0.779155\t Accuracy:69.309%\n",
            "Epoch : 2 [12800/50000 (26%)]\tLoss: 1.001353\t Accuracy:69.473%\n",
            "Epoch : 2 [16000/50000 (32%)]\tLoss: 0.933065\t Accuracy:70.194%\n",
            "Epoch : 2 [19200/50000 (38%)]\tLoss: 0.692129\t Accuracy:70.676%\n",
            "Epoch : 2 [22400/50000 (45%)]\tLoss: 0.724022\t Accuracy:70.896%\n",
            "Epoch : 2 [25600/50000 (51%)]\tLoss: 0.709934\t Accuracy:71.193%\n",
            "Epoch : 2 [28800/50000 (58%)]\tLoss: 0.780814\t Accuracy:71.400%\n",
            "Epoch : 2 [32000/50000 (64%)]\tLoss: 0.817454\t Accuracy:71.485%\n",
            "Epoch : 2 [35200/50000 (70%)]\tLoss: 0.634814\t Accuracy:71.665%\n",
            "Epoch : 2 [38400/50000 (77%)]\tLoss: 0.925577\t Accuracy:71.857%\n",
            "Epoch : 2 [41600/50000 (83%)]\tLoss: 0.821920\t Accuracy:71.755%\n",
            "Epoch : 2 [44800/50000 (90%)]\tLoss: 0.800472\t Accuracy:71.917%\n",
            "Epoch : 2 [48000/50000 (96%)]\tLoss: 0.867854\t Accuracy:72.143%\n",
            "Epoch : 3 [0/50000 (0%)]\tLoss: 0.854305\t Accuracy:79.688%\n",
            "Epoch : 3 [3200/50000 (6%)]\tLoss: 1.172293\t Accuracy:76.164%\n",
            "Epoch : 3 [6400/50000 (13%)]\tLoss: 0.774052\t Accuracy:74.969%\n",
            "Epoch : 3 [9600/50000 (19%)]\tLoss: 0.546864\t Accuracy:75.362%\n",
            "Epoch : 3 [12800/50000 (26%)]\tLoss: 0.768225\t Accuracy:75.498%\n",
            "Epoch : 3 [16000/50000 (32%)]\tLoss: 0.956622\t Accuracy:76.058%\n",
            "Epoch : 3 [19200/50000 (38%)]\tLoss: 0.639603\t Accuracy:76.448%\n",
            "Epoch : 3 [22400/50000 (45%)]\tLoss: 0.674454\t Accuracy:76.447%\n",
            "Epoch : 3 [25600/50000 (51%)]\tLoss: 0.609458\t Accuracy:76.551%\n",
            "Epoch : 3 [28800/50000 (58%)]\tLoss: 0.715600\t Accuracy:76.282%\n",
            "Epoch : 3 [32000/50000 (64%)]\tLoss: 0.647555\t Accuracy:76.481%\n",
            "Epoch : 3 [35200/50000 (70%)]\tLoss: 0.936978\t Accuracy:76.704%\n",
            "Epoch : 3 [38400/50000 (77%)]\tLoss: 0.708856\t Accuracy:76.807%\n",
            "Epoch : 3 [41600/50000 (83%)]\tLoss: 0.921837\t Accuracy:76.884%\n",
            "Epoch : 3 [44800/50000 (90%)]\tLoss: 0.918678\t Accuracy:76.917%\n",
            "Epoch : 3 [48000/50000 (96%)]\tLoss: 0.661915\t Accuracy:76.908%\n",
            "Epoch : 4 [0/50000 (0%)]\tLoss: 0.591231\t Accuracy:81.250%\n",
            "Epoch : 4 [3200/50000 (6%)]\tLoss: 0.594630\t Accuracy:75.950%\n",
            "Epoch : 4 [6400/50000 (13%)]\tLoss: 0.507173\t Accuracy:77.321%\n",
            "Epoch : 4 [9600/50000 (19%)]\tLoss: 0.389040\t Accuracy:78.291%\n",
            "Epoch : 4 [12800/50000 (26%)]\tLoss: 0.595957\t Accuracy:78.312%\n",
            "Epoch : 4 [16000/50000 (32%)]\tLoss: 0.686577\t Accuracy:78.362%\n",
            "Epoch : 4 [19200/50000 (38%)]\tLoss: 0.693663\t Accuracy:78.551%\n",
            "Epoch : 4 [22400/50000 (45%)]\tLoss: 0.551629\t Accuracy:78.575%\n",
            "Epoch : 4 [25600/50000 (51%)]\tLoss: 1.405056\t Accuracy:78.487%\n",
            "Epoch : 4 [28800/50000 (58%)]\tLoss: 0.746044\t Accuracy:78.416%\n",
            "Epoch : 4 [32000/50000 (64%)]\tLoss: 0.891396\t Accuracy:78.493%\n",
            "Epoch : 4 [35200/50000 (70%)]\tLoss: 0.544169\t Accuracy:78.743%\n",
            "Epoch : 4 [38400/50000 (77%)]\tLoss: 0.738420\t Accuracy:78.757%\n",
            "Epoch : 4 [41600/50000 (83%)]\tLoss: 0.671140\t Accuracy:78.847%\n",
            "Epoch : 4 [44800/50000 (90%)]\tLoss: 0.582465\t Accuracy:78.916%\n",
            "Epoch : 4 [48000/50000 (96%)]\tLoss: 0.333599\t Accuracy:79.061%\n",
            "Epoch : 5 [0/50000 (0%)]\tLoss: 0.416979\t Accuracy:87.500%\n",
            "Epoch : 5 [3200/50000 (6%)]\tLoss: 0.830934\t Accuracy:81.556%\n",
            "Epoch : 5 [6400/50000 (13%)]\tLoss: 0.520215\t Accuracy:79.858%\n",
            "Epoch : 5 [9600/50000 (19%)]\tLoss: 0.475084\t Accuracy:80.184%\n",
            "Epoch : 5 [12800/50000 (26%)]\tLoss: 0.507762\t Accuracy:80.791%\n",
            "Epoch : 5 [16000/50000 (32%)]\tLoss: 0.934546\t Accuracy:81.157%\n",
            "Epoch : 5 [19200/50000 (38%)]\tLoss: 0.626212\t Accuracy:80.679%\n",
            "Epoch : 5 [22400/50000 (45%)]\tLoss: 0.548741\t Accuracy:80.333%\n",
            "Epoch : 5 [25600/50000 (51%)]\tLoss: 0.519032\t Accuracy:79.890%\n",
            "Epoch : 5 [28800/50000 (58%)]\tLoss: 0.524141\t Accuracy:79.882%\n",
            "Epoch : 5 [32000/50000 (64%)]\tLoss: 0.629562\t Accuracy:79.909%\n",
            "Epoch : 5 [35200/50000 (70%)]\tLoss: 0.668303\t Accuracy:79.991%\n",
            "Epoch : 5 [38400/50000 (77%)]\tLoss: 0.812179\t Accuracy:80.114%\n",
            "Epoch : 5 [41600/50000 (83%)]\tLoss: 0.307185\t Accuracy:80.213%\n",
            "Epoch : 5 [44800/50000 (90%)]\tLoss: 0.620860\t Accuracy:80.271%\n",
            "Epoch : 5 [48000/50000 (96%)]\tLoss: 0.749974\t Accuracy:80.345%\n",
            "Epoch : 6 [0/50000 (0%)]\tLoss: 0.621186\t Accuracy:79.688%\n",
            "Epoch : 6 [3200/50000 (6%)]\tLoss: 0.464100\t Accuracy:81.403%\n",
            "Epoch : 6 [6400/50000 (13%)]\tLoss: 0.553855\t Accuracy:82.410%\n",
            "Epoch : 6 [9600/50000 (19%)]\tLoss: 0.484632\t Accuracy:82.223%\n",
            "Epoch : 6 [12800/50000 (26%)]\tLoss: 0.768355\t Accuracy:81.817%\n",
            "Epoch : 6 [16000/50000 (32%)]\tLoss: 0.542998\t Accuracy:81.779%\n",
            "Epoch : 6 [19200/50000 (38%)]\tLoss: 0.572130\t Accuracy:82.075%\n",
            "Epoch : 6 [22400/50000 (45%)]\tLoss: 0.367142\t Accuracy:82.069%\n",
            "Epoch : 6 [25600/50000 (51%)]\tLoss: 0.304073\t Accuracy:81.975%\n",
            "Epoch : 6 [28800/50000 (58%)]\tLoss: 0.385424\t Accuracy:82.099%\n",
            "Epoch : 6 [32000/50000 (64%)]\tLoss: 0.706268\t Accuracy:82.173%\n",
            "Epoch : 6 [35200/50000 (70%)]\tLoss: 0.522093\t Accuracy:82.194%\n",
            "Epoch : 6 [38400/50000 (77%)]\tLoss: 0.802806\t Accuracy:82.053%\n",
            "Epoch : 6 [41600/50000 (83%)]\tLoss: 0.603518\t Accuracy:82.100%\n",
            "Epoch : 6 [44800/50000 (90%)]\tLoss: 0.450908\t Accuracy:82.101%\n",
            "Epoch : 6 [48000/50000 (96%)]\tLoss: 0.513001\t Accuracy:82.109%\n",
            "Epoch : 7 [0/50000 (0%)]\tLoss: 0.857050\t Accuracy:82.812%\n",
            "Epoch : 7 [3200/50000 (6%)]\tLoss: 0.494370\t Accuracy:83.456%\n",
            "Epoch : 7 [6400/50000 (13%)]\tLoss: 0.788922\t Accuracy:83.416%\n",
            "Epoch : 7 [9600/50000 (19%)]\tLoss: 0.684968\t Accuracy:83.185%\n",
            "Epoch : 7 [12800/50000 (26%)]\tLoss: 0.369598\t Accuracy:83.652%\n",
            "Epoch : 7 [16000/50000 (32%)]\tLoss: 0.491298\t Accuracy:83.740%\n",
            "Epoch : 7 [19200/50000 (38%)]\tLoss: 0.413168\t Accuracy:83.664%\n",
            "Epoch : 7 [22400/50000 (45%)]\tLoss: 0.457583\t Accuracy:83.413%\n",
            "Epoch : 7 [25600/50000 (51%)]\tLoss: 0.402620\t Accuracy:83.323%\n",
            "Epoch : 7 [28800/50000 (58%)]\tLoss: 0.473790\t Accuracy:83.356%\n",
            "Epoch : 7 [32000/50000 (64%)]\tLoss: 0.554790\t Accuracy:83.393%\n",
            "Epoch : 7 [35200/50000 (70%)]\tLoss: 0.705269\t Accuracy:83.329%\n",
            "Epoch : 7 [38400/50000 (77%)]\tLoss: 0.611208\t Accuracy:82.724%\n",
            "Epoch : 7 [41600/50000 (83%)]\tLoss: 0.730097\t Accuracy:82.200%\n",
            "Epoch : 7 [44800/50000 (90%)]\tLoss: 0.453358\t Accuracy:81.894%\n",
            "Epoch : 7 [48000/50000 (96%)]\tLoss: 0.480523\t Accuracy:81.751%\n",
            "Epoch : 8 [0/50000 (0%)]\tLoss: 0.838501\t Accuracy:71.875%\n",
            "Epoch : 8 [3200/50000 (6%)]\tLoss: 0.609948\t Accuracy:77.757%\n",
            "Epoch : 8 [6400/50000 (13%)]\tLoss: 0.930016\t Accuracy:80.322%\n",
            "Epoch : 8 [9600/50000 (19%)]\tLoss: 0.524352\t Accuracy:81.633%\n",
            "Epoch : 8 [12800/50000 (26%)]\tLoss: 0.742412\t Accuracy:82.517%\n",
            "Epoch : 8 [16000/50000 (32%)]\tLoss: 0.420321\t Accuracy:82.346%\n",
            "Epoch : 8 [19200/50000 (38%)]\tLoss: 0.652136\t Accuracy:82.465%\n",
            "Epoch : 8 [22400/50000 (45%)]\tLoss: 0.567381\t Accuracy:82.394%\n",
            "Epoch : 8 [25600/50000 (51%)]\tLoss: 0.379072\t Accuracy:82.053%\n",
            "Epoch : 8 [28800/50000 (58%)]\tLoss: 0.587888\t Accuracy:81.978%\n",
            "Epoch : 8 [32000/50000 (64%)]\tLoss: 0.515726\t Accuracy:82.226%\n",
            "Epoch : 8 [35200/50000 (70%)]\tLoss: 0.646858\t Accuracy:82.245%\n",
            "Epoch : 8 [38400/50000 (77%)]\tLoss: 0.752943\t Accuracy:81.754%\n",
            "Epoch : 8 [41600/50000 (83%)]\tLoss: 0.597833\t Accuracy:81.533%\n",
            "Epoch : 8 [44800/50000 (90%)]\tLoss: 0.402009\t Accuracy:81.475%\n",
            "Epoch : 8 [48000/50000 (96%)]\tLoss: 0.506530\t Accuracy:81.591%\n",
            "Epoch : 9 [0/50000 (0%)]\tLoss: 0.659750\t Accuracy:79.688%\n",
            "Epoch : 9 [3200/50000 (6%)]\tLoss: 0.539547\t Accuracy:83.701%\n",
            "Epoch : 9 [6400/50000 (13%)]\tLoss: 1.273109\t Accuracy:80.848%\n",
            "Epoch : 9 [9600/50000 (19%)]\tLoss: 1.060250\t Accuracy:75.052%\n",
            "Epoch : 9 [12800/50000 (26%)]\tLoss: 0.593044\t Accuracy:74.798%\n",
            "Epoch : 9 [16000/50000 (32%)]\tLoss: 0.779817\t Accuracy:74.782%\n",
            "Epoch : 9 [19200/50000 (38%)]\tLoss: 0.984700\t Accuracy:75.696%\n",
            "Epoch : 9 [22400/50000 (45%)]\tLoss: 0.431507\t Accuracy:76.416%\n",
            "Epoch : 9 [25600/50000 (51%)]\tLoss: 0.589176\t Accuracy:77.186%\n",
            "Epoch : 9 [28800/50000 (58%)]\tLoss: 0.631445\t Accuracy:77.359%\n",
            "Epoch : 9 [32000/50000 (64%)]\tLoss: 0.579600\t Accuracy:77.473%\n",
            "Epoch : 9 [35200/50000 (70%)]\tLoss: 0.947905\t Accuracy:77.036%\n",
            "Epoch : 9 [38400/50000 (77%)]\tLoss: 0.595434\t Accuracy:76.991%\n",
            "Epoch : 9 [41600/50000 (83%)]\tLoss: 1.363853\t Accuracy:76.935%\n",
            "Epoch : 9 [44800/50000 (90%)]\tLoss: 1.001156\t Accuracy:76.380%\n",
            "Epoch : 9 [48000/50000 (96%)]\tLoss: 0.911588\t Accuracy:76.250%\n",
            "Finished Training\n"
          ],
          "name": "stdout"
        }
      ]
    },
    {
      "cell_type": "code",
      "metadata": {
        "id": "o2jhEk5MfTap",
        "outputId": "47e89a61-fd16-40f7-81e8-24880f20e3f5",
        "colab": {
          "base_uri": "https://localhost:8080/",
          "height": 573
        }
      },
      "source": [
        "plot(loss, \"Plot of error\",  \"Epochs\", \"Lost\")\n",
        "plot(acc, \"Plot of accuracy\", \"Epochs\", \"Accuracy\")"
      ],
      "execution_count": null,
      "outputs": [
        {
          "output_type": "display_data",
          "data": {
            "image/png": "[encoded data removed]",
            "text/plain": [
              "<Figure size 432x288 with 1 Axes>"
            ]
          },
          "metadata": {
            "tags": [],
            "needs_background": "light"
          }
        },
        {
          "output_type": "display_data",
          "data": {
            "image/png": "[encoded data removed]",
            "text/plain": [
              "<Figure size 432x288 with 1 Axes>"
            ]
          },
          "metadata": {
            "tags": [],
            "needs_background": "light"
          }
        }
      ]
    },
    {
      "cell_type": "code",
      "metadata": {
        "id": "Nluw9Ne5fV6h",
        "outputId": "4804d2b7-7d2d-42e3-bf4d-8817008290b3",
        "colab": {
          "base_uri": "https://localhost:8080/",
          "height": 34
        }
      },
      "source": [
        "test(net)"
      ],
      "execution_count": null,
      "outputs": [
        {
          "output_type": "stream",
          "text": [
            "Accuracy of the network on the 10000 test images: 65 %\n"
          ],
          "name": "stdout"
        }
      ]
    },
    {
      "cell_type": "code",
      "metadata": {
        "id": "gSa3XeBYfX5p",
        "outputId": "b39575e2-d116-4bd3-83ea-5ec900f1f533",
        "colab": {
          "base_uri": "https://localhost:8080/",
          "height": 191
        }
      },
      "source": [
        "test_class(net)"
      ],
      "execution_count": null,
      "outputs": [
        {
          "output_type": "stream",
          "text": [
            "Accuracy of plane : 66 %\n",
            "Accuracy of   car : 80 %\n",
            "Accuracy of  bird : 77 %\n",
            "Accuracy of   cat : 58 %\n",
            "Accuracy of  deer : 49 %\n",
            "Accuracy of   dog : 71 %\n",
            "Accuracy of  frog : 17 %\n",
            "Accuracy of horse : 70 %\n",
            "Accuracy of  ship : 74 %\n",
            "Accuracy of truck : 76 %\n"
          ],
          "name": "stdout"
        }
      ]
    },
    {
      "cell_type": "markdown",
      "metadata": {
        "id": "g_tqpWBHxZBw"
      },
      "source": [
        "# RESNET"
      ]
    },
    {
      "cell_type": "code",
      "metadata": {
        "id": "OD-cdRUwxO4N",
        "outputId": "8a027c50-35a8-4b42-ef3a-afec01fda54f",
        "colab": {
          "base_uri": "https://localhost:8080/",
          "height": 101,
          "referenced_widgets": [
            "9da83541258642d288f02a886c4d63b3",
            "ea09c4abb66a4498b40af1e39fbcebba",
            "b96bf954cf014c86b9561b59d8d83944",
            "8df0e7a911114a59aec29d81961f0b03",
            "f9035d93b8f44575935aec731755c8f7",
            "3ba9eb4df2714b4390dff9805d5cf757",
            "cdd966910fc64d93a70161c31b68bfb7",
            "6db7a58b5ccb47f5abc63a3b94787097"
          ]
        }
      },
      "source": [
        "net = torch.hub.load('pytorch/vision:v0.6.0', 'resnet18', pretrained=True).to(device)\n",
        "net.fc = nn.Linear(512, 10).to(device)"
      ],
      "execution_count": null,
      "outputs": [
        {
          "output_type": "stream",
          "text": [
            "Using cache found in /root/.cache/torch/hub/pytorch_vision_v0.6.0\n",
            "Downloading: \"https://download.pytorch.org/models/resnet18-5c106cde.pth\" to /root/.cache/torch/hub/checkpoints/resnet18-5c106cde.pth\n"
          ],
          "name": "stderr"
        },
        {
          "output_type": "display_data",
          "data": {
            "application/vnd.jupyter.widget-view+json": {
              "model_id": "9da83541258642d288f02a886c4d63b3",
              "version_minor": 0,
              "version_major": 2
            },
            "text/plain": [
              "HBox(children=(FloatProgress(value=0.0, max=46827520.0), HTML(value='')))"
            ]
          },
          "metadata": {
            "tags": []
          }
        },
        {
          "output_type": "stream",
          "text": [
            "\n"
          ],
          "name": "stdout"
        }
      ]
    },
    {
      "cell_type": "code",
      "metadata": {
        "id": "m0WQWFtY6jBT",
        "outputId": "e954b08a-1512-4aba-eb88-8a3612f318bf",
        "colab": {
          "base_uri": "https://localhost:8080/",
          "height": 1000
        }
      },
      "source": [
        "loss, acc = train(net, 10)"
      ],
      "execution_count": null,
      "outputs": [
        {
          "output_type": "stream",
          "text": [
            "Epoch : 0 [0/50000 (0%)]\tLoss: 2.830838\t Accuracy:10.938%\n",
            "Epoch : 0 [3200/50000 (6%)]\tLoss: 1.614226\t Accuracy:42.616%\n",
            "Epoch : 0 [6400/50000 (13%)]\tLoss: 1.354675\t Accuracy:50.031%\n",
            "Epoch : 0 [9600/50000 (19%)]\tLoss: 1.213850\t Accuracy:54.201%\n",
            "Epoch : 0 [12800/50000 (26%)]\tLoss: 0.887481\t Accuracy:57.012%\n",
            "Epoch : 0 [16000/50000 (32%)]\tLoss: 1.269329\t Accuracy:58.721%\n",
            "Epoch : 0 [19200/50000 (38%)]\tLoss: 0.791015\t Accuracy:59.853%\n",
            "Epoch : 0 [22400/50000 (45%)]\tLoss: 0.817452\t Accuracy:61.213%\n",
            "Epoch : 0 [25600/50000 (51%)]\tLoss: 1.171690\t Accuracy:62.449%\n",
            "Epoch : 0 [28800/50000 (58%)]\tLoss: 1.052115\t Accuracy:63.553%\n",
            "Epoch : 0 [32000/50000 (64%)]\tLoss: 0.708242\t Accuracy:64.434%\n",
            "Epoch : 0 [35200/50000 (70%)]\tLoss: 0.973382\t Accuracy:65.095%\n",
            "Epoch : 0 [38400/50000 (77%)]\tLoss: 0.918202\t Accuracy:65.612%\n",
            "Epoch : 0 [41600/50000 (83%)]\tLoss: 1.014946\t Accuracy:66.122%\n",
            "Epoch : 0 [44800/50000 (90%)]\tLoss: 0.642691\t Accuracy:66.639%\n",
            "Epoch : 0 [48000/50000 (96%)]\tLoss: 0.731827\t Accuracy:67.131%\n",
            "Epoch : 1 [0/50000 (0%)]\tLoss: 0.429975\t Accuracy:89.062%\n",
            "Epoch : 1 [3200/50000 (6%)]\tLoss: 0.429196\t Accuracy:78.952%\n",
            "Epoch : 1 [6400/50000 (13%)]\tLoss: 0.648720\t Accuracy:78.264%\n",
            "Epoch : 1 [9600/50000 (19%)]\tLoss: 0.668777\t Accuracy:77.794%\n",
            "Epoch : 1 [12800/50000 (26%)]\tLoss: 1.015127\t Accuracy:77.705%\n",
            "Epoch : 1 [16000/50000 (32%)]\tLoss: 0.540685\t Accuracy:77.764%\n",
            "Epoch : 1 [19200/50000 (38%)]\tLoss: 0.497491\t Accuracy:77.990%\n",
            "Epoch : 1 [22400/50000 (45%)]\tLoss: 0.453044\t Accuracy:78.000%\n",
            "Epoch : 1 [25600/50000 (51%)]\tLoss: 0.738895\t Accuracy:77.868%\n",
            "Epoch : 1 [28800/50000 (58%)]\tLoss: 0.663246\t Accuracy:77.775%\n",
            "Epoch : 1 [32000/50000 (64%)]\tLoss: 0.876339\t Accuracy:77.732%\n",
            "Epoch : 1 [35200/50000 (70%)]\tLoss: 0.645452\t Accuracy:77.796%\n",
            "Epoch : 1 [38400/50000 (77%)]\tLoss: 0.741554\t Accuracy:77.865%\n",
            "Epoch : 1 [41600/50000 (83%)]\tLoss: 0.510235\t Accuracy:77.957%\n",
            "Epoch : 1 [44800/50000 (90%)]\tLoss: 0.689331\t Accuracy:77.936%\n",
            "Epoch : 1 [48000/50000 (96%)]\tLoss: 0.788989\t Accuracy:77.973%\n",
            "Epoch : 2 [0/50000 (0%)]\tLoss: 0.479343\t Accuracy:85.938%\n",
            "Epoch : 2 [3200/50000 (6%)]\tLoss: 0.579163\t Accuracy:82.659%\n",
            "Epoch : 2 [6400/50000 (13%)]\tLoss: 0.334575\t Accuracy:82.843%\n",
            "Epoch : 2 [9600/50000 (19%)]\tLoss: 0.461700\t Accuracy:82.378%\n",
            "Epoch : 2 [12800/50000 (26%)]\tLoss: 0.300924\t Accuracy:82.641%\n",
            "Epoch : 2 [16000/50000 (32%)]\tLoss: 0.641797\t Accuracy:82.433%\n",
            "Epoch : 2 [19200/50000 (38%)]\tLoss: 0.595881\t Accuracy:82.361%\n",
            "Epoch : 2 [22400/50000 (45%)]\tLoss: 0.390989\t Accuracy:82.127%\n",
            "Epoch : 2 [25600/50000 (51%)]\tLoss: 0.610617\t Accuracy:82.119%\n",
            "Epoch : 2 [28800/50000 (58%)]\tLoss: 0.358676\t Accuracy:82.127%\n",
            "Epoch : 2 [32000/50000 (64%)]\tLoss: 0.507780\t Accuracy:82.076%\n",
            "Epoch : 2 [35200/50000 (70%)]\tLoss: 0.642416\t Accuracy:82.157%\n",
            "Epoch : 2 [38400/50000 (77%)]\tLoss: 0.408640\t Accuracy:82.100%\n",
            "Epoch : 2 [41600/50000 (83%)]\tLoss: 0.389467\t Accuracy:82.088%\n",
            "Epoch : 2 [44800/50000 (90%)]\tLoss: 0.426530\t Accuracy:82.148%\n",
            "Epoch : 2 [48000/50000 (96%)]\tLoss: 0.655142\t Accuracy:82.182%\n",
            "Epoch : 3 [0/50000 (0%)]\tLoss: 0.441275\t Accuracy:84.375%\n",
            "Epoch : 3 [3200/50000 (6%)]\tLoss: 0.158195\t Accuracy:87.194%\n",
            "Epoch : 3 [6400/50000 (13%)]\tLoss: 0.416663\t Accuracy:86.989%\n",
            "Epoch : 3 [9600/50000 (19%)]\tLoss: 0.452297\t Accuracy:86.486%\n",
            "Epoch : 3 [12800/50000 (26%)]\tLoss: 0.436832\t Accuracy:86.451%\n",
            "Epoch : 3 [16000/50000 (32%)]\tLoss: 0.519281\t Accuracy:86.485%\n",
            "Epoch : 3 [19200/50000 (38%)]\tLoss: 0.358953\t Accuracy:86.389%\n",
            "Epoch : 3 [22400/50000 (45%)]\tLoss: 0.696963\t Accuracy:86.084%\n",
            "Epoch : 3 [25600/50000 (51%)]\tLoss: 0.360910\t Accuracy:86.156%\n",
            "Epoch : 3 [28800/50000 (58%)]\tLoss: 0.440882\t Accuracy:86.132%\n",
            "Epoch : 3 [32000/50000 (64%)]\tLoss: 0.296487\t Accuracy:86.093%\n",
            "Epoch : 3 [35200/50000 (70%)]\tLoss: 0.463645\t Accuracy:86.110%\n",
            "Epoch : 3 [38400/50000 (77%)]\tLoss: 0.464181\t Accuracy:86.109%\n",
            "Epoch : 3 [41600/50000 (83%)]\tLoss: 0.253484\t Accuracy:86.048%\n",
            "Epoch : 3 [44800/50000 (90%)]\tLoss: 0.435644\t Accuracy:85.991%\n",
            "Epoch : 3 [48000/50000 (96%)]\tLoss: 0.628614\t Accuracy:85.875%\n",
            "Epoch : 4 [0/50000 (0%)]\tLoss: 0.364805\t Accuracy:89.062%\n",
            "Epoch : 4 [3200/50000 (6%)]\tLoss: 0.136913\t Accuracy:90.165%\n",
            "Epoch : 4 [6400/50000 (13%)]\tLoss: 0.389416\t Accuracy:90.285%\n",
            "Epoch : 4 [9600/50000 (19%)]\tLoss: 0.179412\t Accuracy:90.025%\n",
            "Epoch : 4 [12800/50000 (26%)]\tLoss: 0.383755\t Accuracy:89.257%\n",
            "Epoch : 4 [16000/50000 (32%)]\tLoss: 0.304698\t Accuracy:89.112%\n",
            "Epoch : 4 [19200/50000 (38%)]\tLoss: 0.565670\t Accuracy:89.042%\n",
            "Epoch : 4 [22400/50000 (45%)]\tLoss: 0.314651\t Accuracy:88.907%\n",
            "Epoch : 4 [25600/50000 (51%)]\tLoss: 0.233494\t Accuracy:88.790%\n",
            "Epoch : 4 [28800/50000 (58%)]\tLoss: 0.330093\t Accuracy:88.657%\n",
            "Epoch : 4 [32000/50000 (64%)]\tLoss: 0.298066\t Accuracy:88.676%\n",
            "Epoch : 4 [35200/50000 (70%)]\tLoss: 0.544126\t Accuracy:88.578%\n",
            "Epoch : 4 [38400/50000 (77%)]\tLoss: 0.291875\t Accuracy:88.556%\n",
            "Epoch : 4 [41600/50000 (83%)]\tLoss: 0.561865\t Accuracy:88.489%\n",
            "Epoch : 4 [44800/50000 (90%)]\tLoss: 0.154731\t Accuracy:88.396%\n",
            "Epoch : 4 [48000/50000 (96%)]\tLoss: 0.457098\t Accuracy:88.401%\n",
            "Epoch : 5 [0/50000 (0%)]\tLoss: 0.194643\t Accuracy:93.750%\n",
            "Epoch : 5 [3200/50000 (6%)]\tLoss: 0.406052\t Accuracy:92.770%\n",
            "Epoch : 5 [6400/50000 (13%)]\tLoss: 0.326244\t Accuracy:92.713%\n",
            "Epoch : 5 [9600/50000 (19%)]\tLoss: 0.244694\t Accuracy:92.539%\n",
            "Epoch : 5 [12800/50000 (26%)]\tLoss: 0.113890\t Accuracy:92.662%\n",
            "Epoch : 5 [16000/50000 (32%)]\tLoss: 0.368790\t Accuracy:92.281%\n",
            "Epoch : 5 [19200/50000 (38%)]\tLoss: 0.292414\t Accuracy:92.021%\n",
            "Epoch : 5 [22400/50000 (45%)]\tLoss: 0.407395\t Accuracy:91.818%\n",
            "Epoch : 5 [25600/50000 (51%)]\tLoss: 0.286560\t Accuracy:91.634%\n",
            "Epoch : 5 [28800/50000 (58%)]\tLoss: 0.221173\t Accuracy:91.616%\n",
            "Epoch : 5 [32000/50000 (64%)]\tLoss: 0.293072\t Accuracy:91.451%\n",
            "Epoch : 5 [35200/50000 (70%)]\tLoss: 0.266824\t Accuracy:91.399%\n",
            "Epoch : 5 [38400/50000 (77%)]\tLoss: 0.303534\t Accuracy:91.306%\n",
            "Epoch : 5 [41600/50000 (83%)]\tLoss: 0.168582\t Accuracy:91.237%\n",
            "Epoch : 5 [44800/50000 (90%)]\tLoss: 0.238948\t Accuracy:91.187%\n",
            "Epoch : 5 [48000/50000 (96%)]\tLoss: 0.286479\t Accuracy:91.064%\n",
            "Epoch : 6 [0/50000 (0%)]\tLoss: 0.243961\t Accuracy:92.188%\n",
            "Epoch : 6 [3200/50000 (6%)]\tLoss: 0.270903\t Accuracy:94.148%\n",
            "Epoch : 6 [6400/50000 (13%)]\tLoss: 0.149459\t Accuracy:93.812%\n",
            "Epoch : 6 [9600/50000 (19%)]\tLoss: 0.123660\t Accuracy:94.040%\n",
            "Epoch : 6 [12800/50000 (26%)]\tLoss: 0.179338\t Accuracy:94.076%\n",
            "Epoch : 6 [16000/50000 (32%)]\tLoss: 0.282302\t Accuracy:93.949%\n",
            "Epoch : 6 [19200/50000 (38%)]\tLoss: 0.316248\t Accuracy:93.667%\n",
            "Epoch : 6 [22400/50000 (45%)]\tLoss: 0.136977\t Accuracy:93.501%\n",
            "Epoch : 6 [25600/50000 (51%)]\tLoss: 0.151024\t Accuracy:93.485%\n",
            "Epoch : 6 [28800/50000 (58%)]\tLoss: 0.230791\t Accuracy:93.352%\n",
            "Epoch : 6 [32000/50000 (64%)]\tLoss: 0.267188\t Accuracy:93.170%\n",
            "Epoch : 6 [35200/50000 (70%)]\tLoss: 0.276552\t Accuracy:92.990%\n",
            "Epoch : 6 [38400/50000 (77%)]\tLoss: 0.245500\t Accuracy:92.882%\n",
            "Epoch : 6 [41600/50000 (83%)]\tLoss: 0.205856\t Accuracy:92.785%\n",
            "Epoch : 6 [44800/50000 (90%)]\tLoss: 0.347097\t Accuracy:92.644%\n",
            "Epoch : 6 [48000/50000 (96%)]\tLoss: 0.143653\t Accuracy:92.537%\n",
            "Epoch : 7 [0/50000 (0%)]\tLoss: 0.178447\t Accuracy:92.188%\n",
            "Epoch : 7 [3200/50000 (6%)]\tLoss: 0.165502\t Accuracy:94.455%\n",
            "Epoch : 7 [6400/50000 (13%)]\tLoss: 0.247518\t Accuracy:94.879%\n",
            "Epoch : 7 [9600/50000 (19%)]\tLoss: 0.097065\t Accuracy:94.805%\n",
            "Epoch : 7 [12800/50000 (26%)]\tLoss: 0.045818\t Accuracy:94.862%\n",
            "Epoch : 7 [16000/50000 (32%)]\tLoss: 0.188938\t Accuracy:94.752%\n",
            "Epoch : 7 [19200/50000 (38%)]\tLoss: 0.236020\t Accuracy:94.669%\n",
            "Epoch : 7 [22400/50000 (45%)]\tLoss: 0.232882\t Accuracy:94.507%\n",
            "Epoch : 7 [25600/50000 (51%)]\tLoss: 0.058683\t Accuracy:94.432%\n",
            "Epoch : 7 [28800/50000 (58%)]\tLoss: 0.151242\t Accuracy:94.377%\n",
            "Epoch : 7 [32000/50000 (64%)]\tLoss: 0.148640\t Accuracy:94.368%\n",
            "Epoch : 7 [35200/50000 (70%)]\tLoss: 0.095945\t Accuracy:94.260%\n",
            "Epoch : 7 [38400/50000 (77%)]\tLoss: 0.218270\t Accuracy:94.192%\n",
            "Epoch : 7 [41600/50000 (83%)]\tLoss: 0.205776\t Accuracy:94.074%\n",
            "Epoch : 7 [44800/50000 (90%)]\tLoss: 0.278745\t Accuracy:94.022%\n",
            "Epoch : 7 [48000/50000 (96%)]\tLoss: 0.274759\t Accuracy:94.027%\n",
            "Epoch : 8 [0/50000 (0%)]\tLoss: 0.171208\t Accuracy:90.625%\n",
            "Epoch : 8 [3200/50000 (6%)]\tLoss: 0.146010\t Accuracy:95.895%\n",
            "Epoch : 8 [6400/50000 (13%)]\tLoss: 0.115063\t Accuracy:95.900%\n",
            "Epoch : 8 [9600/50000 (19%)]\tLoss: 0.082526\t Accuracy:95.985%\n",
            "Epoch : 8 [12800/50000 (26%)]\tLoss: 0.137669\t Accuracy:95.989%\n",
            "Epoch : 8 [16000/50000 (32%)]\tLoss: 0.242829\t Accuracy:95.742%\n",
            "Epoch : 8 [19200/50000 (38%)]\tLoss: 0.126507\t Accuracy:95.697%\n",
            "Epoch : 8 [22400/50000 (45%)]\tLoss: 0.089409\t Accuracy:95.726%\n",
            "Epoch : 8 [25600/50000 (51%)]\tLoss: 0.165333\t Accuracy:95.577%\n",
            "Epoch : 8 [28800/50000 (58%)]\tLoss: 0.201665\t Accuracy:95.479%\n",
            "Epoch : 8 [32000/50000 (64%)]\tLoss: 0.154875\t Accuracy:95.512%\n",
            "Epoch : 8 [35200/50000 (70%)]\tLoss: 0.274870\t Accuracy:95.508%\n",
            "Epoch : 8 [38400/50000 (77%)]\tLoss: 0.333176\t Accuracy:95.429%\n",
            "Epoch : 8 [41600/50000 (83%)]\tLoss: 0.107566\t Accuracy:95.413%\n",
            "Epoch : 8 [44800/50000 (90%)]\tLoss: 0.200361\t Accuracy:95.448%\n",
            "Epoch : 8 [48000/50000 (96%)]\tLoss: 0.211942\t Accuracy:95.327%\n",
            "Epoch : 9 [0/50000 (0%)]\tLoss: 0.180345\t Accuracy:95.312%\n",
            "Epoch : 9 [3200/50000 (6%)]\tLoss: 0.104745\t Accuracy:95.711%\n",
            "Epoch : 9 [6400/50000 (13%)]\tLoss: 0.038982\t Accuracy:96.117%\n",
            "Epoch : 9 [9600/50000 (19%)]\tLoss: 0.126917\t Accuracy:96.140%\n",
            "Epoch : 9 [12800/50000 (26%)]\tLoss: 0.129861\t Accuracy:96.463%\n",
            "Epoch : 9 [16000/50000 (32%)]\tLoss: 0.078491\t Accuracy:96.439%\n",
            "Epoch : 9 [19200/50000 (38%)]\tLoss: 0.120164\t Accuracy:96.470%\n",
            "Epoch : 9 [22400/50000 (45%)]\tLoss: 0.043982\t Accuracy:96.399%\n",
            "Epoch : 9 [25600/50000 (51%)]\tLoss: 0.046971\t Accuracy:96.267%\n",
            "Epoch : 9 [28800/50000 (58%)]\tLoss: 0.227384\t Accuracy:96.106%\n",
            "Epoch : 9 [32000/50000 (64%)]\tLoss: 0.313074\t Accuracy:95.771%\n",
            "Epoch : 9 [35200/50000 (70%)]\tLoss: 0.118044\t Accuracy:95.605%\n",
            "Epoch : 9 [38400/50000 (77%)]\tLoss: 0.141250\t Accuracy:95.466%\n",
            "Epoch : 9 [41600/50000 (83%)]\tLoss: 0.160796\t Accuracy:95.428%\n",
            "Epoch : 9 [44800/50000 (90%)]\tLoss: 0.226347\t Accuracy:95.437%\n",
            "Epoch : 9 [48000/50000 (96%)]\tLoss: 0.123441\t Accuracy:95.402%\n",
            "Finished Training\n"
          ],
          "name": "stdout"
        }
      ]
    },
    {
      "cell_type": "code",
      "metadata": {
        "id": "TJh4e9YXhPyr",
        "outputId": "576eb661-6da2-445e-da3a-6d7576c791fa",
        "colab": {
          "base_uri": "https://localhost:8080/",
          "height": 573
        }
      },
      "source": [
        "plot(loss, \"Plot of error\",  \"Epochs\", \"Lost\")\n",
        "plot(acc, \"Plot of accuracy\", \"Epochs\", \"Accuracy\")"
      ],
      "execution_count": null,
      "outputs": [
        {
          "output_type": "display_data",
          "data": {
            "image/png": "[encoded data removed]",
            "text/plain": [
              "<Figure size 432x288 with 1 Axes>"
            ]
          },
          "metadata": {
            "tags": [],
            "needs_background": "light"
          }
        },
        {
          "output_type": "display_data",
          "data": {
            "image/png": "[encoded data removed]",
            "text/plain": [
              "<Figure size 432x288 with 1 Axes>"
            ]
          },
          "metadata": {
            "tags": [],
            "needs_background": "light"
          }
        }
      ]
    },
    {
      "cell_type": "code",
      "metadata": {
        "id": "bl8Y9sWmhTi-",
        "outputId": "96cf1fd5-7eb4-44d9-9ed5-b3803d99b6d1",
        "colab": {
          "base_uri": "https://localhost:8080/",
          "height": 208
        }
      },
      "source": [
        "test(net)\n",
        "test_class(net)"
      ],
      "execution_count": null,
      "outputs": [
        {
          "output_type": "stream",
          "text": [
            "Accuracy of the network on the 10000 test images: 80 %\n",
            "Accuracy of plane : 80 %\n",
            "Accuracy of   car : 92 %\n",
            "Accuracy of  bird : 68 %\n",
            "Accuracy of   cat : 58 %\n",
            "Accuracy of  deer : 85 %\n",
            "Accuracy of   dog : 72 %\n",
            "Accuracy of  frog : 87 %\n",
            "Accuracy of horse : 79 %\n",
            "Accuracy of  ship : 89 %\n",
            "Accuracy of truck : 82 %\n"
          ],
          "name": "stdout"
        }
      ]
    }
  ]
}